{
 "cells": [
  {
   "cell_type": "code",
   "execution_count": 2,
   "metadata": {},
   "outputs": [],
   "source": [
    "import pandas as pd\n",
    "import scipy.stats as stats\n",
    "import matplotlib.pyplot as plt\n",
    "import seaborn as sns"
   ]
  },
  {
   "cell_type": "code",
   "execution_count": 3,
   "metadata": {},
   "outputs": [
    {
     "name": "stdout",
     "output_type": "stream",
     "text": [
      "    age                                                bio               job  \\\n",
      "0  18.0                    ::anatomical_heart: :venezuela:  ['NotSpecified']   \n",
      "1  25.0  i don't know what i want or what i'm looking f...  ['NotSpecified']   \n",
      "2  20.0             to the insta better: :sparkling_heart:  ['NotSpecified']   \n",
      "3  19.0  :libra: :woman_fairy_light_skin_tone::performi...  ['NotSpecified']   \n",
      "4  20.0  if you are the one in the last photo, go ahead...  ['NotSpecified']   \n",
      "5  24.0  discovering new places; chill out plans and th...  ['NotSpecified']   \n",
      "6  23.0                                              :ice:  ['NotSpecified']   \n",
      "7  21.0                                         best insta  ['NotSpecified']   \n",
      "8  26.0  venezuela :venezuela::red_heart: :round_pushpi...  ['NotSpecified']   \n",
      "9  18.0   talk to me on instagram < i put a random age ...  ['NotSpecified']   \n",
      "\n",
      "                           school              anthem_title  \\\n",
      "0                             NaN                       NaN   \n",
      "1                             NaN                       NaN   \n",
      "2  Grado Medio Estetica Y Belleza         MIDDLE OF THE NHT   \n",
      "3                             NaN                jawbreaker   \n",
      "4                             NaN  Kiss Me More (feat. SZA)   \n",
      "5  Universidad Autónoma de Madrid                   MAFIOSA   \n",
      "6                             NaN                       NaN   \n",
      "7                             NaN                       NaN   \n",
      "8                             NaN                       NaN   \n",
      "9                             NaN                  Dark Red   \n",
      "\n",
      "       anthem_artist gender  \\\n",
      "0                NaN  Woman   \n",
      "1                NaN  Woman   \n",
      "2         Elley Duhé  Woman   \n",
      "3  Machine Gun Kelly  Woman   \n",
      "4      Doja Cat; SZA  Woman   \n",
      "5       Nathy Peluso  Woman   \n",
      "6                NaN  Woman   \n",
      "7                NaN  Woman   \n",
      "8                NaN  Woman   \n",
      "9         Steve Lacy  Woman   \n",
      "\n",
      "                                     descriptor_text  \\\n",
      "0                                     |Virgo|Gym rat   \n",
      "1      |Better in person|Occasionally|Non-smoker|Dog   \n",
      "2  |Virgo|B time texter|Non-smoker|All the drinks...   \n",
      "3                            |Libra|Better in person   \n",
      "4                                         |Cat|Virgo   \n",
      "5                                        |Non-smoker   \n",
      "6                                                NaN   \n",
      "7                                                NaN   \n",
      "8                                |Non-smoker|Scorpio   \n",
      "9  |Scorpio|B time texter|Sober|Socially active|O...   \n",
      "\n",
      "                                       interest_text  total_photos  desition  \\\n",
      "0   festivals instagram travel world traveler sho...             5         2   \n",
      "1               walking travel movies music outdoors             8         2   \n",
      "2   fashion grab a drink instagram photography pa...            11         2   \n",
      "3   museum photography language exchange coffee s...            13         2   \n",
      "4                             coffee gamer cat lover            12         2   \n",
      "5          comedy brunch musician baking working out            14         2   \n",
      "6     foodie grab a drink parties working out movies             6         2   \n",
      "7                 netflix music fashion grab a drink             7         2   \n",
      "8            dancing craft beer netflix travel music             7         2   \n",
      "9     astrology language exchange music singer gamer             5         2   \n",
      "\n",
      "   longitud    latitud      hash_key  \\\n",
      "0 -3.684574  40.415211  4.220185e+18   \n",
      "1 -3.684574  40.415211  3.602085e+18   \n",
      "2 -3.684574  40.415211  4.553127e+18   \n",
      "3 -3.684574  40.415211 -5.379741e+18   \n",
      "4 -3.684574  40.415211  4.418117e+18   \n",
      "5 -3.684574  40.415211 -7.203982e+18   \n",
      "6 -3.684574  40.415211  3.425558e+18   \n",
      "7 -3.684574  40.415211  5.066870e+18   \n",
      "8 -3.684574  40.415211 -5.894136e+18   \n",
      "9 -3.684574  40.415211 -5.901279e+18   \n",
      "\n",
      "                                          descriptor  \\\n",
      "0                               ['Virgo', 'Gym rat']   \n",
      "1  ['Better in person', 'Occasionally', 'Non-smok...   \n",
      "2  ['Virgo', 'B time texter', 'Non-smoker', 'All ...   \n",
      "3                      ['Libra', 'Better in person']   \n",
      "4                                   ['Cat', 'Virgo']   \n",
      "5                                     ['Non-smoker']   \n",
      "6                                                 []   \n",
      "7                                                 []   \n",
      "8                          ['Non-smoker', 'Scorpio']   \n",
      "9  ['Scorpio', 'B time texter', 'Sober', 'Sociall...   \n",
      "\n",
      "                                            interest  \\\n",
      "0  ['Festivals', 'Instagram', 'Travel', 'World Tr...   \n",
      "1  ['Walking', 'Travel', 'Movies', 'Music', 'Outd...   \n",
      "2  ['Fashion', 'Grab a drink', 'Instagram', 'Phot...   \n",
      "3  ['Museum', 'Photography', 'Language Exchange',...   \n",
      "4                   ['Coffee', 'Gamer', 'Cat lover']   \n",
      "5  ['Comedy', 'Brunch', 'Musician', 'Baking', 'Wo...   \n",
      "6  ['Foodie', 'Grab a drink', 'Parties', 'Working...   \n",
      "7    ['Netflix', 'Music', 'Fashion', 'Grab a drink']   \n",
      "8  ['Dancing', 'Craft Beer', 'Netflix', 'Travel',...   \n",
      "9  ['Astrology', 'Language Exchange', 'Music', 'S...   \n",
      "\n",
      "                                         city_hashed  \n",
      "0  500a2b51765bf57441a2a5ba95621dcccc92722c51d321...  \n",
      "1  4f53cda18c2baa0c0354bb5f9a3ecbe5ed12ab4d8e11ba...  \n",
      "2  4f53cda18c2baa0c0354bb5f9a3ecbe5ed12ab4d8e11ba...  \n",
      "3  500a2b51765bf57441a2a5ba95621dcccc92722c51d321...  \n",
      "4  8206299e7d15db1d75e8c44c5f48523d4f88f0513b6adc...  \n",
      "5  500a2b51765bf57441a2a5ba95621dcccc92722c51d321...  \n",
      "6  4f53cda18c2baa0c0354bb5f9a3ecbe5ed12ab4d8e11ba...  \n",
      "7  4f53cda18c2baa0c0354bb5f9a3ecbe5ed12ab4d8e11ba...  \n",
      "8  500a2b51765bf57441a2a5ba95621dcccc92722c51d321...  \n",
      "9  4f53cda18c2baa0c0354bb5f9a3ecbe5ed12ab4d8e11ba...  \n"
     ]
    }
   ],
   "source": [
    "# Ruta al dataset\n",
    "path_df = './datasets/dataset_more_labeled.csv'\n",
    "\n",
    "df = pd.read_csv(path_df, sep = ',', header = 0)\n",
    "print(df.head(10))"
   ]
  },
  {
   "cell_type": "code",
   "execution_count": 4,
   "metadata": {},
   "outputs": [],
   "source": [
    "# Crear la columna 'gender-specified'\n",
    "df['gender-specified'] = df['gender'].apply(lambda x: 1 if x == 'NotSpecified' else 0)"
   ]
  },
  {
   "cell_type": "code",
   "execution_count": 5,
   "metadata": {},
   "outputs": [
    {
     "name": "stdout",
     "output_type": "stream",
     "text": [
      "Prueba de normalidad para el grupo 0: ShapiroResult(statistic=np.float64(0.9606096090217925), pvalue=np.float64(9.136368293555765e-20))\n",
      "Prueba de normalidad para el grupo 1: ShapiroResult(statistic=np.float64(0.9610301673242728), pvalue=np.float64(4.352646731728328e-25))\n"
     ]
    }
   ],
   "source": [
    "# Prueba de normalidad para cada grupo\n",
    "group_0 = df[df['gender-specified'] == 0]['total_photos']\n",
    "group_1 = df[df['gender-specified'] == 1]['total_photos']\n",
    "\n",
    "shapiro_0 = stats.shapiro(group_0)\n",
    "shapiro_1 = stats.shapiro(group_1)\n",
    "\n",
    "print(\"Prueba de normalidad para el grupo 0:\", shapiro_0)\n",
    "print(\"Prueba de normalidad para el grupo 1:\", shapiro_1)"
   ]
  },
  {
   "cell_type": "code",
   "execution_count": 8,
   "metadata": {},
   "outputs": [
    {
     "name": "stdout",
     "output_type": "stream",
     "text": [
      "P- valor obtenido en la prueba de homogeneidad de varianzas (Levene): 0.1353400448400942\n"
     ]
    }
   ],
   "source": [
    "# Prueba de homogeneidad de varianzas (Levene)\n",
    "levene_test = stats.levene(group_0, group_1)\n",
    "print(\"P- valor obtenido en la prueba de homogeneidad de varianzas (Levene):\", levene_test.pvalue)"
   ]
  },
  {
   "cell_type": "code",
   "execution_count": 6,
   "metadata": {},
   "outputs": [
    {
     "name": "stdout",
     "output_type": "stream",
     "text": [
      "t-statistic: -4.079987377517195, p-value: 4.5929769813094875e-05\n"
     ]
    }
   ],
   "source": [
    "# Realizar la prueba t de Student\n",
    "t_stat, p_value = stats.ttest_ind(group_0, group_1, equal_var=True)  # equal_var=True asume varianzas iguales\n",
    "\n",
    "print(f\"t-statistic: {t_stat}, p-value: {p_value}\")"
   ]
  },
  {
   "cell_type": "code",
   "execution_count": 7,
   "metadata": {},
   "outputs": [
    {
     "data": {
      "image/png": "[encoded data removed]",
      "text/plain": [
       "<Figure size 800x600 with 1 Axes>"
      ]
     },
     "metadata": {},
     "output_type": "display_data"
    }
   ],
   "source": [
    "# Boxplot para visualizar la distribución de total_photos por gender-specified\n",
    "plt.figure(figsize=(8, 6))\n",
    "sns.boxplot(x='gender-specified', y='total_photos', data=df)\n",
    "plt.title('Distribución de total_photos por gender-specified')\n",
    "plt.show()"
   ]
  }
 ],
 "metadata": {
  "kernelspec": {
   "display_name": "venv",
   "language": "python",
   "name": "python3"
  },
  "language_info": {
   "codemirror_mode": {
    "name": "ipython",
    "version": 3
   },
   "file_extension": ".py",
   "mimetype": "text/x-python",
   "name": "python",
   "nbconvert_exporter": "python",
   "pygments_lexer": "ipython3",
   "version": "3.10.0"
  }
 },
 "nbformat": 4,
 "nbformat_minor": 2
}
